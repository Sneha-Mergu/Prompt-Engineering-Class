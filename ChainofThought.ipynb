{
  "nbformat": 4,
  "nbformat_minor": 0,
  "metadata": {
    "colab": {
      "provenance": []
    },
    "kernelspec": {
      "name": "python3",
      "display_name": "Python 3"
    },
    "language_info": {
      "name": "python"
    }
  },
  "cells": [
    {
      "cell_type": "code",
      "execution_count": 1,
      "metadata": {
        "colab": {
          "base_uri": "https://localhost:8080/"
        },
        "id": "wFzouFlBqpFy",
        "outputId": "6560274f-9b32-4e89-df2a-86b3993c6ddd"
      },
      "outputs": [
        {
          "output_type": "stream",
          "name": "stdout",
          "text": [
            "Collecting langchain\n",
            "  Downloading langchain-0.2.14-py3-none-any.whl.metadata (7.1 kB)\n",
            "Collecting groq\n",
            "  Downloading groq-0.10.0-py3-none-any.whl.metadata (13 kB)\n",
            "Requirement already satisfied: PyYAML>=5.3 in /usr/local/lib/python3.10/dist-packages (from langchain) (6.0.2)\n",
            "Requirement already satisfied: SQLAlchemy<3,>=1.4 in /usr/local/lib/python3.10/dist-packages (from langchain) (2.0.32)\n",
            "Requirement already satisfied: aiohttp<4.0.0,>=3.8.3 in /usr/local/lib/python3.10/dist-packages (from langchain) (3.10.5)\n",
            "Requirement already satisfied: async-timeout<5.0.0,>=4.0.0 in /usr/local/lib/python3.10/dist-packages (from langchain) (4.0.3)\n",
            "Collecting langchain-core<0.3.0,>=0.2.32 (from langchain)\n",
            "  Downloading langchain_core-0.2.35-py3-none-any.whl.metadata (6.2 kB)\n",
            "Collecting langchain-text-splitters<0.3.0,>=0.2.0 (from langchain)\n",
            "  Downloading langchain_text_splitters-0.2.2-py3-none-any.whl.metadata (2.1 kB)\n",
            "Collecting langsmith<0.2.0,>=0.1.17 (from langchain)\n",
            "  Downloading langsmith-0.1.105-py3-none-any.whl.metadata (13 kB)\n",
            "Requirement already satisfied: numpy<2,>=1 in /usr/local/lib/python3.10/dist-packages (from langchain) (1.26.4)\n",
            "Requirement already satisfied: pydantic<3,>=1 in /usr/local/lib/python3.10/dist-packages (from langchain) (2.8.2)\n",
            "Requirement already satisfied: requests<3,>=2 in /usr/local/lib/python3.10/dist-packages (from langchain) (2.32.3)\n",
            "Collecting tenacity!=8.4.0,<9.0.0,>=8.1.0 (from langchain)\n",
            "  Downloading tenacity-8.5.0-py3-none-any.whl.metadata (1.2 kB)\n",
            "Requirement already satisfied: anyio<5,>=3.5.0 in /usr/local/lib/python3.10/dist-packages (from groq) (3.7.1)\n",
            "Requirement already satisfied: distro<2,>=1.7.0 in /usr/lib/python3/dist-packages (from groq) (1.7.0)\n",
            "Collecting httpx<1,>=0.23.0 (from groq)\n",
            "  Downloading httpx-0.27.2-py3-none-any.whl.metadata (7.1 kB)\n",
            "Requirement already satisfied: sniffio in /usr/local/lib/python3.10/dist-packages (from groq) (1.3.1)\n",
            "Requirement already satisfied: typing-extensions<5,>=4.7 in /usr/local/lib/python3.10/dist-packages (from groq) (4.12.2)\n",
            "Requirement already satisfied: aiohappyeyeballs>=2.3.0 in /usr/local/lib/python3.10/dist-packages (from aiohttp<4.0.0,>=3.8.3->langchain) (2.4.0)\n",
            "Requirement already satisfied: aiosignal>=1.1.2 in /usr/local/lib/python3.10/dist-packages (from aiohttp<4.0.0,>=3.8.3->langchain) (1.3.1)\n",
            "Requirement already satisfied: attrs>=17.3.0 in /usr/local/lib/python3.10/dist-packages (from aiohttp<4.0.0,>=3.8.3->langchain) (24.2.0)\n",
            "Requirement already satisfied: frozenlist>=1.1.1 in /usr/local/lib/python3.10/dist-packages (from aiohttp<4.0.0,>=3.8.3->langchain) (1.4.1)\n",
            "Requirement already satisfied: multidict<7.0,>=4.5 in /usr/local/lib/python3.10/dist-packages (from aiohttp<4.0.0,>=3.8.3->langchain) (6.0.5)\n",
            "Requirement already satisfied: yarl<2.0,>=1.0 in /usr/local/lib/python3.10/dist-packages (from aiohttp<4.0.0,>=3.8.3->langchain) (1.9.4)\n",
            "Requirement already satisfied: idna>=2.8 in /usr/local/lib/python3.10/dist-packages (from anyio<5,>=3.5.0->groq) (3.7)\n",
            "Requirement already satisfied: exceptiongroup in /usr/local/lib/python3.10/dist-packages (from anyio<5,>=3.5.0->groq) (1.2.2)\n",
            "Requirement already satisfied: certifi in /usr/local/lib/python3.10/dist-packages (from httpx<1,>=0.23.0->groq) (2024.7.4)\n",
            "Collecting httpcore==1.* (from httpx<1,>=0.23.0->groq)\n",
            "  Downloading httpcore-1.0.5-py3-none-any.whl.metadata (20 kB)\n",
            "Collecting h11<0.15,>=0.13 (from httpcore==1.*->httpx<1,>=0.23.0->groq)\n",
            "  Downloading h11-0.14.0-py3-none-any.whl.metadata (8.2 kB)\n",
            "Collecting jsonpatch<2.0,>=1.33 (from langchain-core<0.3.0,>=0.2.32->langchain)\n",
            "  Downloading jsonpatch-1.33-py2.py3-none-any.whl.metadata (3.0 kB)\n",
            "Requirement already satisfied: packaging<25,>=23.2 in /usr/local/lib/python3.10/dist-packages (from langchain-core<0.3.0,>=0.2.32->langchain) (24.1)\n",
            "Collecting orjson<4.0.0,>=3.9.14 (from langsmith<0.2.0,>=0.1.17->langchain)\n",
            "  Downloading orjson-3.10.7-cp310-cp310-manylinux_2_17_x86_64.manylinux2014_x86_64.whl.metadata (50 kB)\n",
            "\u001b[2K     \u001b[90m━━━━━━━━━━━━━━━━━━━━━━━━━━━━━━━━━━━━━━━━\u001b[0m \u001b[32m50.4/50.4 kB\u001b[0m \u001b[31m1.7 MB/s\u001b[0m eta \u001b[36m0:00:00\u001b[0m\n",
            "\u001b[?25hRequirement already satisfied: annotated-types>=0.4.0 in /usr/local/lib/python3.10/dist-packages (from pydantic<3,>=1->langchain) (0.7.0)\n",
            "Requirement already satisfied: pydantic-core==2.20.1 in /usr/local/lib/python3.10/dist-packages (from pydantic<3,>=1->langchain) (2.20.1)\n",
            "Requirement already satisfied: charset-normalizer<4,>=2 in /usr/local/lib/python3.10/dist-packages (from requests<3,>=2->langchain) (3.3.2)\n",
            "Requirement already satisfied: urllib3<3,>=1.21.1 in /usr/local/lib/python3.10/dist-packages (from requests<3,>=2->langchain) (2.0.7)\n",
            "Requirement already satisfied: greenlet!=0.4.17 in /usr/local/lib/python3.10/dist-packages (from SQLAlchemy<3,>=1.4->langchain) (3.0.3)\n",
            "Collecting jsonpointer>=1.9 (from jsonpatch<2.0,>=1.33->langchain-core<0.3.0,>=0.2.32->langchain)\n",
            "  Downloading jsonpointer-3.0.0-py2.py3-none-any.whl.metadata (2.3 kB)\n",
            "Downloading langchain-0.2.14-py3-none-any.whl (997 kB)\n",
            "\u001b[2K   \u001b[90m━━━━━━━━━━━━━━━━━━━━━━━━━━━━━━━━━━━━━━━━\u001b[0m \u001b[32m997.8/997.8 kB\u001b[0m \u001b[31m31.7 MB/s\u001b[0m eta \u001b[36m0:00:00\u001b[0m\n",
            "\u001b[?25hDownloading groq-0.10.0-py3-none-any.whl (106 kB)\n",
            "\u001b[2K   \u001b[90m━━━━━━━━━━━━━━━━━━━━━━━━━━━━━━━━━━━━━━━━\u001b[0m \u001b[32m106.3/106.3 kB\u001b[0m \u001b[31m7.7 MB/s\u001b[0m eta \u001b[36m0:00:00\u001b[0m\n",
            "\u001b[?25hDownloading httpx-0.27.2-py3-none-any.whl (76 kB)\n",
            "\u001b[2K   \u001b[90m━━━━━━━━━━━━━━━━━━━━━━━━━━━━━━━━━━━━━━━━\u001b[0m \u001b[32m76.4/76.4 kB\u001b[0m \u001b[31m4.6 MB/s\u001b[0m eta \u001b[36m0:00:00\u001b[0m\n",
            "\u001b[?25hDownloading httpcore-1.0.5-py3-none-any.whl (77 kB)\n",
            "\u001b[2K   \u001b[90m━━━━━━━━━━━━━━━━━━━━━━━━━━━━━━━━━━━━━━━━\u001b[0m \u001b[32m77.9/77.9 kB\u001b[0m \u001b[31m5.7 MB/s\u001b[0m eta \u001b[36m0:00:00\u001b[0m\n",
            "\u001b[?25hDownloading langchain_core-0.2.35-py3-none-any.whl (394 kB)\n",
            "\u001b[2K   \u001b[90m━━━━━━━━━━━━━━━━━━━━━━━━━━━━━━━━━━━━━━━━\u001b[0m \u001b[32m394.9/394.9 kB\u001b[0m \u001b[31m16.8 MB/s\u001b[0m eta \u001b[36m0:00:00\u001b[0m\n",
            "\u001b[?25hDownloading langchain_text_splitters-0.2.2-py3-none-any.whl (25 kB)\n",
            "Downloading langsmith-0.1.105-py3-none-any.whl (150 kB)\n",
            "\u001b[2K   \u001b[90m━━━━━━━━━━━━━━━━━━━━━━━━━━━━━━━━━━━━━━━━\u001b[0m \u001b[32m150.5/150.5 kB\u001b[0m \u001b[31m7.8 MB/s\u001b[0m eta \u001b[36m0:00:00\u001b[0m\n",
            "\u001b[?25hDownloading tenacity-8.5.0-py3-none-any.whl (28 kB)\n",
            "Downloading jsonpatch-1.33-py2.py3-none-any.whl (12 kB)\n",
            "Downloading orjson-3.10.7-cp310-cp310-manylinux_2_17_x86_64.manylinux2014_x86_64.whl (141 kB)\n",
            "\u001b[2K   \u001b[90m━━━━━━━━━━━━━━━━━━━━━━━━━━━━━━━━━━━━━━━━\u001b[0m \u001b[32m141.9/141.9 kB\u001b[0m \u001b[31m5.5 MB/s\u001b[0m eta \u001b[36m0:00:00\u001b[0m\n",
            "\u001b[?25hDownloading h11-0.14.0-py3-none-any.whl (58 kB)\n",
            "\u001b[2K   \u001b[90m━━━━━━━━━━━━━━━━━━━━━━━━━━━━━━━━━━━━━━━━\u001b[0m \u001b[32m58.3/58.3 kB\u001b[0m \u001b[31m3.5 MB/s\u001b[0m eta \u001b[36m0:00:00\u001b[0m\n",
            "\u001b[?25hDownloading jsonpointer-3.0.0-py2.py3-none-any.whl (7.6 kB)\n",
            "Installing collected packages: tenacity, orjson, jsonpointer, h11, jsonpatch, httpcore, httpx, langsmith, groq, langchain-core, langchain-text-splitters, langchain\n",
            "  Attempting uninstall: tenacity\n",
            "    Found existing installation: tenacity 9.0.0\n",
            "    Uninstalling tenacity-9.0.0:\n",
            "      Successfully uninstalled tenacity-9.0.0\n",
            "Successfully installed groq-0.10.0 h11-0.14.0 httpcore-1.0.5 httpx-0.27.2 jsonpatch-1.33 jsonpointer-3.0.0 langchain-0.2.14 langchain-core-0.2.35 langchain-text-splitters-0.2.2 langsmith-0.1.105 orjson-3.10.7 tenacity-8.5.0\n",
            "Collecting langchain-groq\n",
            "  Downloading langchain_groq-0.1.9-py3-none-any.whl.metadata (2.9 kB)\n",
            "Requirement already satisfied: groq in /usr/local/lib/python3.10/dist-packages (0.10.0)\n",
            "Requirement already satisfied: langchain-core<0.3.0,>=0.2.26 in /usr/local/lib/python3.10/dist-packages (from langchain-groq) (0.2.35)\n",
            "Requirement already satisfied: anyio<5,>=3.5.0 in /usr/local/lib/python3.10/dist-packages (from groq) (3.7.1)\n",
            "Requirement already satisfied: distro<2,>=1.7.0 in /usr/lib/python3/dist-packages (from groq) (1.7.0)\n",
            "Requirement already satisfied: httpx<1,>=0.23.0 in /usr/local/lib/python3.10/dist-packages (from groq) (0.27.2)\n",
            "Requirement already satisfied: pydantic<3,>=1.9.0 in /usr/local/lib/python3.10/dist-packages (from groq) (2.8.2)\n",
            "Requirement already satisfied: sniffio in /usr/local/lib/python3.10/dist-packages (from groq) (1.3.1)\n",
            "Requirement already satisfied: typing-extensions<5,>=4.7 in /usr/local/lib/python3.10/dist-packages (from groq) (4.12.2)\n",
            "Requirement already satisfied: idna>=2.8 in /usr/local/lib/python3.10/dist-packages (from anyio<5,>=3.5.0->groq) (3.7)\n",
            "Requirement already satisfied: exceptiongroup in /usr/local/lib/python3.10/dist-packages (from anyio<5,>=3.5.0->groq) (1.2.2)\n",
            "Requirement already satisfied: certifi in /usr/local/lib/python3.10/dist-packages (from httpx<1,>=0.23.0->groq) (2024.7.4)\n",
            "Requirement already satisfied: httpcore==1.* in /usr/local/lib/python3.10/dist-packages (from httpx<1,>=0.23.0->groq) (1.0.5)\n",
            "Requirement already satisfied: h11<0.15,>=0.13 in /usr/local/lib/python3.10/dist-packages (from httpcore==1.*->httpx<1,>=0.23.0->groq) (0.14.0)\n",
            "Requirement already satisfied: PyYAML>=5.3 in /usr/local/lib/python3.10/dist-packages (from langchain-core<0.3.0,>=0.2.26->langchain-groq) (6.0.2)\n",
            "Requirement already satisfied: jsonpatch<2.0,>=1.33 in /usr/local/lib/python3.10/dist-packages (from langchain-core<0.3.0,>=0.2.26->langchain-groq) (1.33)\n",
            "Requirement already satisfied: langsmith<0.2.0,>=0.1.75 in /usr/local/lib/python3.10/dist-packages (from langchain-core<0.3.0,>=0.2.26->langchain-groq) (0.1.105)\n",
            "Requirement already satisfied: packaging<25,>=23.2 in /usr/local/lib/python3.10/dist-packages (from langchain-core<0.3.0,>=0.2.26->langchain-groq) (24.1)\n",
            "Requirement already satisfied: tenacity!=8.4.0,<9.0.0,>=8.1.0 in /usr/local/lib/python3.10/dist-packages (from langchain-core<0.3.0,>=0.2.26->langchain-groq) (8.5.0)\n",
            "Requirement already satisfied: annotated-types>=0.4.0 in /usr/local/lib/python3.10/dist-packages (from pydantic<3,>=1.9.0->groq) (0.7.0)\n",
            "Requirement already satisfied: pydantic-core==2.20.1 in /usr/local/lib/python3.10/dist-packages (from pydantic<3,>=1.9.0->groq) (2.20.1)\n",
            "Requirement already satisfied: jsonpointer>=1.9 in /usr/local/lib/python3.10/dist-packages (from jsonpatch<2.0,>=1.33->langchain-core<0.3.0,>=0.2.26->langchain-groq) (3.0.0)\n",
            "Requirement already satisfied: orjson<4.0.0,>=3.9.14 in /usr/local/lib/python3.10/dist-packages (from langsmith<0.2.0,>=0.1.75->langchain-core<0.3.0,>=0.2.26->langchain-groq) (3.10.7)\n",
            "Requirement already satisfied: requests<3,>=2 in /usr/local/lib/python3.10/dist-packages (from langsmith<0.2.0,>=0.1.75->langchain-core<0.3.0,>=0.2.26->langchain-groq) (2.32.3)\n",
            "Requirement already satisfied: charset-normalizer<4,>=2 in /usr/local/lib/python3.10/dist-packages (from requests<3,>=2->langsmith<0.2.0,>=0.1.75->langchain-core<0.3.0,>=0.2.26->langchain-groq) (3.3.2)\n",
            "Requirement already satisfied: urllib3<3,>=1.21.1 in /usr/local/lib/python3.10/dist-packages (from requests<3,>=2->langsmith<0.2.0,>=0.1.75->langchain-core<0.3.0,>=0.2.26->langchain-groq) (2.0.7)\n",
            "Downloading langchain_groq-0.1.9-py3-none-any.whl (14 kB)\n",
            "Installing collected packages: langchain-groq\n",
            "Successfully installed langchain-groq-0.1.9\n"
          ]
        }
      ],
      "source": [
        "!pip install langchain groq\n",
        "!pip install langchain-groq groq"
      ]
    },
    {
      "cell_type": "code",
      "source": [
        "#Basic code to initialize the Groq API and setup the LLM.\n",
        "from langchain_groq import ChatGroq\n",
        "from langchain.chains import LLMChain\n",
        "import os\n",
        "\n",
        "# Set your Groq API key\n",
        "os.environ[\"GROQ_API_KEY\"] = \"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\"\n",
        "\n",
        "# Initialize the Groq LLM\n",
        "llm = ChatGroq(model_name=\"mixtral-8x7b-32768\")"
      ],
      "metadata": {
        "id": "4Mk1rHVBq-VP"
      },
      "execution_count": 2,
      "outputs": []
    },
    {
      "cell_type": "code",
      "source": [
        "from langchain_core.messages import AIMessage, HumanMessage, SystemMessage\n",
        "from langchain.prompts import Prompt\n",
        "\n",
        "#Setup HumanMessage, SystemMessage for simple prompt.\n",
        "\n",
        "example = \"\"\"\n",
        "Question: You and three friends (a total of 4 people) order a large pizza that is divided into 12 equal slices. How many slices does each person get if you share the pizza equally?\n",
        "Answer: 3.\n",
        "\n",
        "Question: You have 24 oranges and want to pack them into boxes. If each box can hold 6 oranges, how many boxes do you need to pack all the oranges?\n",
        "Answer:\n",
        "\"\"\"\n",
        "human_message = HumanMessage(content=example)\n",
        "system_message = SystemMessage(content=\"You are helpful assistant.\")\n",
        "\n",
        "\n",
        "new_prompt = (system_message + human_message)\n",
        "\n",
        "print (f\"Prompt: {new_prompt}\")\n",
        "\n",
        "chain = LLMChain(llm=llm, prompt=new_prompt)\n",
        "reponse = chain.run({})\n",
        "print(f\"Response: {reponse}\")"
      ],
      "metadata": {
        "colab": {
          "base_uri": "https://localhost:8080/"
        },
        "id": "uflQkxWgrXNe",
        "outputId": "e5fcfb6e-6ff5-4a13-9230-422429b75e2a"
      },
      "execution_count": 3,
      "outputs": [
        {
          "output_type": "stream",
          "name": "stdout",
          "text": [
            "Prompt: input_variables=[] messages=[SystemMessage(content='You are helpful assistant.'), HumanMessage(content='\\nQuestion: You and three friends (a total of 4 people) order a large pizza that is divided into 12 equal slices. How many slices does each person get if you share the pizza equally?\\nAnswer: 3.\\n\\nQuestion: You have 24 oranges and want to pack them into boxes. If each box can hold 6 oranges, how many boxes do you need to pack all the oranges?\\nAnswer:\\n')]\n"
          ]
        },
        {
          "output_type": "stream",
          "name": "stderr",
          "text": [
            "/usr/local/lib/python3.10/dist-packages/langchain_core/_api/deprecation.py:151: LangChainDeprecationWarning: The class `LLMChain` was deprecated in LangChain 0.1.17 and will be removed in 1.0. Use RunnableSequence, e.g., `prompt | llm` instead.\n",
            "  warn_deprecated(\n",
            "/usr/local/lib/python3.10/dist-packages/langchain_core/_api/deprecation.py:151: LangChainDeprecationWarning: The method `Chain.run` was deprecated in langchain 0.1.0 and will be removed in 1.0. Use invoke instead.\n",
            "  warn_deprecated(\n"
          ]
        },
        {
          "output_type": "stream",
          "name": "stdout",
          "text": [
            "Response: You need 4 boxes. To find this, you divide the total number of oranges by the number of oranges each box can hold: 24 oranges ÷ 6 oranges/box = 4 boxes.\n"
          ]
        }
      ]
    },
    {
      "cell_type": "code",
      "source": [
        "# System message setup\n",
        "system_message = SystemMessage(content=\"You are a creative assistant for generating short stories.\")\n",
        "\n",
        "# Prompt 1: Get genre and main character\n",
        "initial_prompt = HumanMessage(content=\"Provide a genre and a main character for a short story.\")\n",
        "\n",
        "# Create the chain and get the genre and character\n",
        "chain1 = LLMChain(llm=llm, prompt=system_message + initial_prompt)\n",
        "response1 = chain1.run({})\n",
        "\n",
        "try:\n",
        "    genre, character = response1.split(', ')\n",
        "except ValueError as e:\n",
        "    print(f\"Error parsing response: {e}\")\n",
        "    genre, character = None, None\n",
        "\n",
        "# Example response\n",
        "response1 = \"Thriller,Inception\"\n",
        "print(f\"Genre: {genre}, \\nCharacter: {character}\")\n",
        "\n",
        "# Prompt 2: Develop the plot based on the genre and character\n",
        "plot_prompt = HumanMessage(content=f\"Based on the genre '{genre}' and the main character '{character}', write a brief plot outline for a short story.\")\n",
        "\n",
        "# Create the chain and get the plot\n",
        "chain2 = LLMChain(llm=llm, prompt=system_message + plot_prompt)\n",
        "plot = chain2.run({})\n",
        "\n",
        "# Prompt 3: Write the conclusion based on the plot\n",
        "conclusion_prompt = HumanMessage(content=f\"Based on the plot outline provided, write the conclusion for the short story.\")\n",
        "\n",
        "# Create the chain and get the conclusion\n",
        "chain3 = LLMChain(llm=llm, prompt=system_message + conclusion_prompt)\n",
        "conclusion = chain3.run({})\n",
        "\n",
        "# Combine all parts to form the final story\n",
        "final_story = f\"Genre: {genre}\\nMain Character: {character}\\nPlot: {plot}\\nConclusion: {conclusion}\"\n",
        "print(final_story)"
      ],
      "metadata": {
        "colab": {
          "base_uri": "https://localhost:8080/"
        },
        "id": "-jlQbyAGsqwg",
        "outputId": "a010f9de-b28f-4130-c0f3-1197bb6f78b1"
      },
      "execution_count": 4,
      "outputs": [
        {
          "output_type": "stream",
          "name": "stdout",
          "text": [
            "Error parsing response: not enough values to unpack (expected 2, got 1)\n",
            "Genre: None, \n",
            "Character: None\n",
            "Genre: None\n",
            "Main Character: None\n",
            "Plot: Title: The Invisible Story\n",
            "\n",
            "In a world where everything is visible, there exists an invisible person named Invis. Invis has lived their entire life unseen by others, creating a unique perspective of the world. Despite the loneliness, Invis finds joy in observing the hidden moments of people's lives.\n",
            "\n",
            "One day, Invis discovers a magical paintbrush capable of making any creation visible. With newfound excitement, Invis paints a small bird that comes to life and becomes their loyal companion. Together, they embark on a journey to explore the visible world while Invis remains unseen, allowing them to witness the raw emotions and true nature of people.\n",
            "\n",
            "As they venture through the city, Invis paints various objects and creatures, bringing a bit of magic and joy to the world. However, Invis also uncovers the darker side of humanity, forcing them to confront the duality of the visible world.\n",
            "\n",
            "In the end, Invis must decide whether to remain invisible and continue observing or to become visible and experience life firsthand. The Invisible Story is a tale of perspective, the power of observation, and the choice between invisibility and vulnerability.\n",
            "Conclusion: Of course, I'd be happy to help! Here's a conclusion based on your plot outline:\n",
            "\n",
            "As the sun began to set, painting the sky with hues of orange and pink, Emily found herself standing at the edge of the cliff, her heart pounding in her chest. She clutched the small, worn-out diary tightly in her hands, its pages filled with her grandmother's memories, her stories, her life.\n",
            "\n",
            "Emily took a deep breath, her eyes welling up with tears. She had come this far, overcome her fears, and now, she was ready. She opened the diary to the last page, her grandmother's final words echoing in her mind. \"Life is a journey, Emily. A beautiful, unpredictable journey. Embrace it, learn from it, and most importantly, cherish every moment.\"\n",
            "\n",
            "With a determined look in her eyes, Emily threw the diary into the wind, watching as it fluttered away, carried by the gentle breeze. She felt a sense of relief, a sense of closure. She had let go, not just of the diary, but of her fears, her doubts, her grief.\n",
            "\n",
            "She turned around and started her journey back, her heart filled with a newfound strength, a newfound courage. She knew she would face challenges, she knew there would be obstacles, but she also knew that she was ready. Ready to embrace life, ready to cherish every moment, ready to write her own story.\n",
            "\n",
            "And so, Emily walked into the sunset, her silhouette against the vibrant sky, a symbol of hope, a symbol of resilience, a symbol of a life well-lived.\n"
          ]
        }
      ]
    },
    {
      "cell_type": "code",
      "source": [
        "from langchain import PromptTemplate, LLMChain\n",
        "from langchain.chains import SimpleSequentialChain\n",
        "\n",
        "# First prompt template\n",
        "first_prompt = PromptTemplate(\n",
        "    input_variables=[\"topic\"],\n",
        "    template=\"Write a short introduction about {topic}.\"\n",
        ")\n",
        "\n",
        "# Second prompt template\n",
        "second_prompt = PromptTemplate(\n",
        "    input_variables=[\"introduction\"],\n",
        "    template=\"Based on this introduction, suggest 3 key points to expand upon: {introduction}\"\n",
        ")\n",
        "\n",
        "# Third prompt template\n",
        "third_prompt = PromptTemplate(\n",
        "    input_variables=[\"key_points\"],\n",
        "    template=\"For each of these key points, provide a brief explanation: {key_points}\"\n",
        ")\n",
        "\n",
        "# Create chains\n",
        "chain_one = LLMChain(llm=llm, prompt=first_prompt)\n",
        "chain_two = LLMChain(llm=llm, prompt=second_prompt)\n",
        "chain_three = LLMChain(llm=llm, prompt=third_prompt)\n",
        "\n",
        "# Create the sequential chain\n",
        "overall_chain = SimpleSequentialChain(\n",
        "    chains=[chain_one, chain_two, chain_three],\n",
        "    verbose=True\n",
        ")\n",
        "\n",
        "# Run the chain\n",
        "topic = \"Design a sustainable urban transportation system for a city of 1 million people. Consider factors such as environmental impact, cost-effectiveness, and accessibility for all residents.\"\n",
        "result = overall_chain.run(topic)\n",
        "\n",
        "print(result)"
      ],
      "metadata": {
        "colab": {
          "base_uri": "https://localhost:8080/"
        },
        "id": "IcIeFKy7tf5S",
        "outputId": "9632b0fc-2525-49af-e3e1-55d467a823a6"
      },
      "execution_count": 5,
      "outputs": [
        {
          "output_type": "stream",
          "name": "stdout",
          "text": [
            "\n",
            "\n",
            "\u001b[1m> Entering new SimpleSequentialChain chain...\u001b[0m\n",
            "\u001b[36;1m\u001b[1;3mDesigning a sustainable urban transportation system for a city of 1 million people is a complex task that requires careful consideration of various factors, including environmental impact, cost-effectiveness, and accessibility for all residents. To create a truly sustainable transportation system, it is essential to prioritize low-carbon modes of transport, such as walking, cycling, and public transit, while also minimizing the use of private vehicles that contribute to greenhouse gas emissions and air pollution.\n",
            "\n",
            "One critical aspect of designing a sustainable transportation system is to ensure that it is accessible and equitable for all residents, particularly those in low-income communities who may face barriers to using active transportation or public transit. This can be achieved by providing safe and well-maintained infrastructure for walking and cycling, as well as affordable and convenient public transit options that connect all parts of the city.\n",
            "\n",
            "Another essential factor to consider is cost-effectiveness. While investing in sustainable transportation infrastructure may require significant upfront costs, it can ultimately save money in the long term by reducing the need for costly road maintenance and healthcare expenses related to air pollution and traffic accidents. Moreover, sustainable transportation systems can also stimulate economic growth by creating jobs and attracting businesses that value sustainable practices.\n",
            "\n",
            "To design a sustainable urban transportation system, it is necessary to engage a diverse range of stakeholders, including community members, transportation experts, policymakers, and business leaders, to ensure that the system meets the needs and priorities of all residents. By working together, we can create a transportation system that not only reduces our carbon footprint but also improves quality of life, promotes equity, and supports economic growth.\u001b[0m\n",
            "\u001b[33;1m\u001b[1;3mSure! Here are three key points to expand upon based on the introduction:\n",
            "\n",
            "1. Prioritizing low-carbon modes of transport:\n",
            "One critical aspect of designing a sustainable urban transportation system is prioritizing low-carbon modes of transport, such as walking, cycling, and public transit. This requires investing in adequate infrastructure to support these modes of transport, such as sidewalks, bike lanes, and bus routes. It also means promoting these modes of transport through education and awareness campaigns, as well as incentives such as subsidized transit passes and bike-sharing programs. By prioritizing low-carbon modes of transport, cities can reduce their greenhouse gas emissions and air pollution, contributing to a healthier environment and reduced healthcare costs.\n",
            "2. Ensuring accessibility and equity:\n",
            "Another critical factor to consider when designing a sustainable urban transportation system is accessibility and equity. This means ensuring that all residents, regardless of income or ability, have access to safe and affordable transportation options. This can be achieved by providing well-maintained infrastructure for walking and cycling, as well as affordable and convenient public transit options that connect all parts of the city. Additionally, cities can consider implementing policies such as fare-free transit for low-income residents or providing transportation options for individuals with disabilities. By prioritizing accessibility and equity, cities can promote social inclusion and reduce disparities in transportation access.\n",
            "3. Promoting cost-effectiveness:\n",
            "While investing in sustainable transportation infrastructure may require significant upfront costs, it can ultimately save money in the long term. This is because sustainable transportation systems can reduce the need for costly road maintenance and healthcare expenses related to air pollution and traffic accidents. Additionally, sustainable transportation systems can stimulate economic growth by creating jobs and attracting businesses that value sustainable practices. Cities can promote cost-effectiveness by implementing policies such as congestion pricing or road tolls, which can generate revenue to invest in sustainable transportation infrastructure. They can also consider public-private partnerships to leverage private sector investment in sustainable transportation projects.\n",
            "\n",
            "Overall, designing a sustainable urban transportation system requires careful consideration of various factors, including environmental impact, cost-effectiveness, and accessibility for all residents. By prioritizing low-carbon modes of transport, ensuring accessibility and equity, and promoting cost-effectiveness, cities can create transportation systems that not only reduce their carbon footprint but also improve quality of life, promote equity, and support economic growth.\u001b[0m\n",
            "\u001b[38;5;200m\u001b[1;3m1. Prioritizing low-carbon modes of transport:\n",
            "Low-carbon modes of transport, such as walking, cycling, and public transit, produce fewer greenhouse gas emissions and contribute less to air pollution compared to private vehicles. By prioritizing these modes of transport, cities can reduce their carbon footprint and improve air quality, which can have significant health benefits for residents. Additionally, promoting low-carbon modes of transport can help reduce traffic congestion and noise pollution, making cities more livable and enjoyable places to be.\n",
            "\n",
            "2. Ensuring accessibility and equity:\n",
            "Accessibility and equity are critical factors in designing a sustainable urban transportation system because they ensure that all residents have access to safe and affordable transportation options. This is particularly important for low-income residents and individuals with disabilities, who may face significant barriers to transportation access. By providing well-maintained infrastructure for walking and cycling, as well as affordable and convenient public transit options, cities can promote social inclusion and reduce disparities in transportation access. This can have significant benefits for public health, economic mobility, and social equity.\n",
            "\n",
            "3. Promoting cost-effectiveness:\n",
            "While investing in sustainable transportation infrastructure may require significant upfront costs, it can ultimately save money in the long term. Sustainable transportation systems can reduce the need for costly road maintenance, as well as healthcare expenses related to air pollution and traffic accidents. Additionally, sustainable transportation systems can stimulate economic growth by creating jobs and attracting businesses that value sustainable practices. Cities can promote cost-effectiveness by implementing policies such as congestion pricing or road tolls, which can generate revenue to invest in sustainable transportation infrastructure. They can also consider public-private partnerships to leverage private sector investment in sustainable transportation projects.\n",
            "\n",
            "In summary, designing a sustainable urban transportation system requires careful consideration of various factors, including environmental impact, accessibility, and cost-effectiveness. By prioritizing low-carbon modes of transport, ensuring accessibility and equity, and promoting cost-effectiveness, cities can create transportation systems that not only reduce their carbon footprint but also improve quality of life, promote equity, and support economic growth.\u001b[0m\n",
            "\n",
            "\u001b[1m> Finished chain.\u001b[0m\n",
            "1. Prioritizing low-carbon modes of transport:\n",
            "Low-carbon modes of transport, such as walking, cycling, and public transit, produce fewer greenhouse gas emissions and contribute less to air pollution compared to private vehicles. By prioritizing these modes of transport, cities can reduce their carbon footprint and improve air quality, which can have significant health benefits for residents. Additionally, promoting low-carbon modes of transport can help reduce traffic congestion and noise pollution, making cities more livable and enjoyable places to be.\n",
            "\n",
            "2. Ensuring accessibility and equity:\n",
            "Accessibility and equity are critical factors in designing a sustainable urban transportation system because they ensure that all residents have access to safe and affordable transportation options. This is particularly important for low-income residents and individuals with disabilities, who may face significant barriers to transportation access. By providing well-maintained infrastructure for walking and cycling, as well as affordable and convenient public transit options, cities can promote social inclusion and reduce disparities in transportation access. This can have significant benefits for public health, economic mobility, and social equity.\n",
            "\n",
            "3. Promoting cost-effectiveness:\n",
            "While investing in sustainable transportation infrastructure may require significant upfront costs, it can ultimately save money in the long term. Sustainable transportation systems can reduce the need for costly road maintenance, as well as healthcare expenses related to air pollution and traffic accidents. Additionally, sustainable transportation systems can stimulate economic growth by creating jobs and attracting businesses that value sustainable practices. Cities can promote cost-effectiveness by implementing policies such as congestion pricing or road tolls, which can generate revenue to invest in sustainable transportation infrastructure. They can also consider public-private partnerships to leverage private sector investment in sustainable transportation projects.\n",
            "\n",
            "In summary, designing a sustainable urban transportation system requires careful consideration of various factors, including environmental impact, accessibility, and cost-effectiveness. By prioritizing low-carbon modes of transport, ensuring accessibility and equity, and promoting cost-effectiveness, cities can create transportation systems that not only reduce their carbon footprint but also improve quality of life, promote equity, and support economic growth.\n"
          ]
        }
      ]
    },
    {
      "cell_type": "code",
      "source": [],
      "metadata": {
        "id": "8DkMUzt4ujNP"
      },
      "execution_count": null,
      "outputs": []
    }
  ]
}